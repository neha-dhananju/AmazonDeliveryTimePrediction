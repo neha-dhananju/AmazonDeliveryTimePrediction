{
 "cells": [
  {
   "cell_type": "markdown",
   "id": "ffcf15fe",
   "metadata": {},
   "source": [
    "## Data Ingestion"
   ]
  },
  {
   "cell_type": "markdown",
   "id": "a3429907",
   "metadata": {},
   "source": [
    "#### Dataset\n",
    "The primary goal of this project is to build a predictive model that can accurately estimate delivery times for \n",
    "\n",
    "e-commerce orders based on various factors such as agent characteristics, geographic distance, time variables, weather \n",
    "\n",
    "conditions, traffic, and product categories.\n",
    "\n",
    "#### Independent Features (Predictors):\n",
    "\n",
    "* Order_ID: Unique identifier for each order.\n",
    "\n",
    "* Agent_Age: Age of the delivery agent.\n",
    "\n",
    "* Agent_Rating: Rating of the delivery agent.\n",
    "\n",
    "* Store_Latitude/Longitude: Geographic location of the store.\n",
    "\n",
    "* Drop_Latitude/Longitude: Geographic location of the delivery address.\n",
    "\n",
    "* Order_Date/Order_Time: Date and time when the order was placed.\n",
    "\n",
    "* Pickup_Time: Time when the delivery agent picked up the order.\n",
    "\n",
    "* Weather: Weather conditions during delivery.\n",
    "\n",
    "* Traffic: Traffic conditions during delivery.\n",
    "\n",
    "* Vehicle: Mode of transportation used for delivery.\n",
    "\n",
    "* Area: Type of delivery area (Urban/Metropolitan).\n",
    "\n",
    "* Category: Category of the product being delivered.\n",
    "\n",
    "#### Dependent Feature (Target Variable):\n",
    "\n",
    "* Delivery_Time: Target variable representing the actual time taken for delivery (in hours).\n"
   ]
  },
  {
   "cell_type": "code",
   "execution_count": 1,
   "id": "1d60f7c8",
   "metadata": {},
   "outputs": [],
   "source": [
    "import pandas as pd"
   ]
  },
  {
   "cell_type": "code",
   "execution_count": null,
   "id": "4303c437",
   "metadata": {},
   "outputs": [],
   "source": []
  },
  {
   "cell_type": "code",
   "execution_count": null,
   "id": "7b646d93",
   "metadata": {},
   "outputs": [],
   "source": []
  },
  {
   "cell_type": "code",
   "execution_count": null,
   "id": "8d4a188e",
   "metadata": {},
   "outputs": [],
   "source": []
  },
  {
   "cell_type": "code",
   "execution_count": null,
   "id": "9a678bd9",
   "metadata": {},
   "outputs": [],
   "source": []
  },
  {
   "cell_type": "code",
   "execution_count": null,
   "id": "f3ab8793",
   "metadata": {},
   "outputs": [],
   "source": []
  },
  {
   "cell_type": "code",
   "execution_count": null,
   "id": "fdf69ced",
   "metadata": {},
   "outputs": [],
   "source": []
  },
  {
   "cell_type": "code",
   "execution_count": null,
   "id": "3d10a8fd",
   "metadata": {},
   "outputs": [],
   "source": []
  },
  {
   "cell_type": "code",
   "execution_count": null,
   "id": "57f98c94",
   "metadata": {},
   "outputs": [],
   "source": []
  },
  {
   "cell_type": "code",
   "execution_count": null,
   "id": "26a53c99",
   "metadata": {},
   "outputs": [],
   "source": []
  },
  {
   "cell_type": "code",
   "execution_count": null,
   "id": "39b18f10",
   "metadata": {},
   "outputs": [],
   "source": []
  },
  {
   "cell_type": "code",
   "execution_count": null,
   "id": "19846aa4",
   "metadata": {},
   "outputs": [],
   "source": []
  }
 ],
 "metadata": {
  "kernelspec": {
   "display_name": "anv",
   "language": "python",
   "name": "python3"
  },
  "language_info": {
   "codemirror_mode": {
    "name": "ipython",
    "version": 3
   },
   "file_extension": ".py",
   "mimetype": "text/x-python",
   "name": "python",
   "nbconvert_exporter": "python",
   "pygments_lexer": "ipython3",
   "version": "3.8.20"
  }
 },
 "nbformat": 4,
 "nbformat_minor": 5
}
